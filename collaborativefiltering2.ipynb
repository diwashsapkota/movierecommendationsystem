{
  "nbformat": 4,
  "nbformat_minor": 0,
  "metadata": {
    "colab": {
      "name": "collaborativefiltering.ipynb",
      "provenance": [],
      "collapsed_sections": [],
      "authorship_tag": "ABX9TyOFhf8M6yfc9UmUlAt3PMwz",
      "include_colab_link": true
    },
    "kernelspec": {
      "name": "python3",
      "display_name": "Python 3"
    }
  },
  "cells": [
    {
      "cell_type": "markdown",
      "metadata": {
        "id": "view-in-github",
        "colab_type": "text"
      },
      "source": [
        "<a href=\"https://colab.research.google.com/github/diwashsapkota/movierecommendationsystem/blob/main/collaborativefiltering2.ipynb\" target=\"_parent\"><img src=\"https://colab.research.google.com/assets/colab-badge.svg\" alt=\"Open In Colab\"/></a>"
      ]
    },
    {
      "cell_type": "code",
      "metadata": {
        "id": "YAOm2cL0AFoK",
        "outputId": "ade57153-ce01-494b-cf4b-c03798b8f838",
        "colab": {
          "base_uri": "https://localhost:8080/"
        }
      },
      "source": [
        "from google.colab import  drive\n",
        "drive.mount('/drive')\n"
      ],
      "execution_count": 2,
      "outputs": [
        {
          "output_type": "stream",
          "text": [
            "Mounted at /drive\n"
          ],
          "name": "stdout"
        }
      ]
    },
    {
      "cell_type": "code",
      "metadata": {
        "id": "SKkf-jOxKBsB"
      },
      "source": [
        "import pandas as pd\n",
        "from scipy import sparse\n",
        "from sklearn.metrics.pairwise import cosine_similarity"
      ],
      "execution_count": 15,
      "outputs": []
    },
    {
      "cell_type": "code",
      "metadata": {
        "id": "aNQaDHgq_T01"
      },
      "source": [
        "# moviesurl = 'https://raw.githubusercontent.com/codeheroku/Introduction-to-Machine-Learning/master/Collaborative%20Filtering/dataset/movies.csv'\n",
        "# linksurl = 'https://raw.githubusercontent.com/codeheroku/Introduction-to-Machine-Learning/master/Collaborative%20Filtering/dataset/links.csv'\n",
        "# tagsurl = 'https://raw.githubusercontent.com/codeheroku/Introduction-to-Machine-Learning/master/Collaborative%20Filtering/dataset/tags.csv'\n",
        "# ratingsurl = 'https://raw.githubusercontent.com/codeheroku/Introduction-to-Machine-Learning/master/Collaborative%20Filtering/dataset/ratings.csv'\n",
        "# toyurl = 'https://raw.githubusercontent.com/codeheroku/Introduction-to-Machine-Learning/master/Collaborative%20Filtering/dataset/toy_dataset.csv'"
      ],
      "execution_count": 16,
      "outputs": []
    },
    {
      "cell_type": "code",
      "metadata": {
        "id": "qNkeezH5KLTV"
      },
      "source": [
        "# import requests\n",
        "# movies = pd.read_csv(moviesurl)\n",
        "# movies.to_csv('/drive/My Drive/Colab Notebooks/code heroku/collaborativefiltering/movies.csv')"
      ],
      "execution_count": 17,
      "outputs": []
    },
    {
      "cell_type": "code",
      "metadata": {
        "id": "LDIGTGwtLJGt"
      },
      "source": [
        "# links = pd.read_csv(linksurl)\n",
        "# links.to_csv('/drive/My Drive/Colab Notebooks/code heroku/collaborativefiltering/links.csv')"
      ],
      "execution_count": 18,
      "outputs": []
    },
    {
      "cell_type": "code",
      "metadata": {
        "id": "eJcQCfvTLQuL"
      },
      "source": [
        "# tags = pd.read_csv(tagsurl)\n",
        "# tags.to_csv('/drive/My Drive/Colab Notebooks/code heroku/collaborativefiltering/tags.csv')"
      ],
      "execution_count": 19,
      "outputs": []
    },
    {
      "cell_type": "code",
      "metadata": {
        "id": "CaKExyEpLV8r"
      },
      "source": [
        "# ratings = pd.read_csv(ratingsurl)\n",
        "# ratings.to_csv('/drive/My Drive/Colab Notebooks/code heroku/collaborativefiltering/ratings.csv')"
      ],
      "execution_count": 20,
      "outputs": []
    },
    {
      "cell_type": "code",
      "metadata": {
        "id": "dsCkqY69LhJD"
      },
      "source": [
        "# toy_dataset = pd.read_csv(toyurl, index_col = 0)\n",
        "# toy_dataset.to_csv('/drive/My Drive/Colab Notebooks/code heroku/collaborativefiltering/toy_dataset.csv')"
      ],
      "execution_count": 21,
      "outputs": []
    },
    {
      "cell_type": "code",
      "metadata": {
        "id": "HeySuPQCRIip"
      },
      "source": [
        "movies = pd.read_csv('/drive/My Drive/Colab Notebooks/code heroku/collaborativefiltering/movies.csv')\n",
        "links = pd.read_csv('/drive/My Drive/Colab Notebooks/code heroku/collaborativefiltering/links.csv')\n",
        "tags = pd.read_csv('/drive/My Drive/Colab Notebooks/code heroku/collaborativefiltering/tags.csv')\n",
        "ratings = pd.read_csv('/drive/My Drive/Colab Notebooks/code heroku/collaborativefiltering/ratings.csv')\n",
        "toy_dataset = pd.read_csv('/drive/My Drive/Colab Notebooks/code heroku/collaborativefiltering/toy_dataset.csv', index_col = 0)"
      ],
      "execution_count": 50,
      "outputs": []
    },
    {
      "cell_type": "code",
      "metadata": {
        "id": "36SRT_3BAl5Z",
        "outputId": "a0981eed-7202-4c5c-9317-8b11665afcb8",
        "colab": {
          "base_uri": "https://localhost:8080/",
          "height": 195
        }
      },
      "source": [
        "toy_dataset.head()"
      ],
      "execution_count": 51,
      "outputs": [
        {
          "output_type": "execute_result",
          "data": {
            "text/html": [
              "<div>\n",
              "<style scoped>\n",
              "    .dataframe tbody tr th:only-of-type {\n",
              "        vertical-align: middle;\n",
              "    }\n",
              "\n",
              "    .dataframe tbody tr th {\n",
              "        vertical-align: top;\n",
              "    }\n",
              "\n",
              "    .dataframe thead th {\n",
              "        text-align: right;\n",
              "    }\n",
              "</style>\n",
              "<table border=\"1\" class=\"dataframe\">\n",
              "  <thead>\n",
              "    <tr style=\"text-align: right;\">\n",
              "      <th></th>\n",
              "      <th>action1</th>\n",
              "      <th>action2</th>\n",
              "      <th>action3</th>\n",
              "      <th>romantic1</th>\n",
              "      <th>romantic2</th>\n",
              "      <th>romantic3</th>\n",
              "    </tr>\n",
              "  </thead>\n",
              "  <tbody>\n",
              "    <tr>\n",
              "      <th>user 1</th>\n",
              "      <td>4.0</td>\n",
              "      <td>5.0</td>\n",
              "      <td>3.0</td>\n",
              "      <td>NaN</td>\n",
              "      <td>2.0</td>\n",
              "      <td>1.0</td>\n",
              "    </tr>\n",
              "    <tr>\n",
              "      <th>user 2</th>\n",
              "      <td>5.0</td>\n",
              "      <td>3.0</td>\n",
              "      <td>3.0</td>\n",
              "      <td>2.0</td>\n",
              "      <td>2.0</td>\n",
              "      <td>NaN</td>\n",
              "    </tr>\n",
              "    <tr>\n",
              "      <th>user 3</th>\n",
              "      <td>1.0</td>\n",
              "      <td>NaN</td>\n",
              "      <td>NaN</td>\n",
              "      <td>4.0</td>\n",
              "      <td>5.0</td>\n",
              "      <td>4.0</td>\n",
              "    </tr>\n",
              "    <tr>\n",
              "      <th>user 4</th>\n",
              "      <td>NaN</td>\n",
              "      <td>2.0</td>\n",
              "      <td>1.0</td>\n",
              "      <td>4.0</td>\n",
              "      <td>NaN</td>\n",
              "      <td>3.0</td>\n",
              "    </tr>\n",
              "    <tr>\n",
              "      <th>user 5</th>\n",
              "      <td>1.0</td>\n",
              "      <td>NaN</td>\n",
              "      <td>2.0</td>\n",
              "      <td>3.0</td>\n",
              "      <td>3.0</td>\n",
              "      <td>4.0</td>\n",
              "    </tr>\n",
              "  </tbody>\n",
              "</table>\n",
              "</div>"
            ],
            "text/plain": [
              "        action1  action2  action3  romantic1  romantic2  romantic3\n",
              "user 1      4.0      5.0      3.0        NaN        2.0        1.0\n",
              "user 2      5.0      3.0      3.0        2.0        2.0        NaN\n",
              "user 3      1.0      NaN      NaN        4.0        5.0        4.0\n",
              "user 4      NaN      2.0      1.0        4.0        NaN        3.0\n",
              "user 5      1.0      NaN      2.0        3.0        3.0        4.0"
            ]
          },
          "metadata": {
            "tags": []
          },
          "execution_count": 51
        }
      ]
    },
    {
      "cell_type": "code",
      "metadata": {
        "id": "IOvTGfwPMXzj",
        "outputId": "3c142111-6076-4921-ded7-fd86c888e8ce",
        "colab": {
          "base_uri": "https://localhost:8080/",
          "height": 195
        }
      },
      "source": [
        "toy_dataset.fillna(0, inplace = True)\n",
        "toy_dataset.head()"
      ],
      "execution_count": 52,
      "outputs": [
        {
          "output_type": "execute_result",
          "data": {
            "text/html": [
              "<div>\n",
              "<style scoped>\n",
              "    .dataframe tbody tr th:only-of-type {\n",
              "        vertical-align: middle;\n",
              "    }\n",
              "\n",
              "    .dataframe tbody tr th {\n",
              "        vertical-align: top;\n",
              "    }\n",
              "\n",
              "    .dataframe thead th {\n",
              "        text-align: right;\n",
              "    }\n",
              "</style>\n",
              "<table border=\"1\" class=\"dataframe\">\n",
              "  <thead>\n",
              "    <tr style=\"text-align: right;\">\n",
              "      <th></th>\n",
              "      <th>action1</th>\n",
              "      <th>action2</th>\n",
              "      <th>action3</th>\n",
              "      <th>romantic1</th>\n",
              "      <th>romantic2</th>\n",
              "      <th>romantic3</th>\n",
              "    </tr>\n",
              "  </thead>\n",
              "  <tbody>\n",
              "    <tr>\n",
              "      <th>user 1</th>\n",
              "      <td>4.0</td>\n",
              "      <td>5.0</td>\n",
              "      <td>3.0</td>\n",
              "      <td>0.0</td>\n",
              "      <td>2.0</td>\n",
              "      <td>1.0</td>\n",
              "    </tr>\n",
              "    <tr>\n",
              "      <th>user 2</th>\n",
              "      <td>5.0</td>\n",
              "      <td>3.0</td>\n",
              "      <td>3.0</td>\n",
              "      <td>2.0</td>\n",
              "      <td>2.0</td>\n",
              "      <td>0.0</td>\n",
              "    </tr>\n",
              "    <tr>\n",
              "      <th>user 3</th>\n",
              "      <td>1.0</td>\n",
              "      <td>0.0</td>\n",
              "      <td>0.0</td>\n",
              "      <td>4.0</td>\n",
              "      <td>5.0</td>\n",
              "      <td>4.0</td>\n",
              "    </tr>\n",
              "    <tr>\n",
              "      <th>user 4</th>\n",
              "      <td>0.0</td>\n",
              "      <td>2.0</td>\n",
              "      <td>1.0</td>\n",
              "      <td>4.0</td>\n",
              "      <td>0.0</td>\n",
              "      <td>3.0</td>\n",
              "    </tr>\n",
              "    <tr>\n",
              "      <th>user 5</th>\n",
              "      <td>1.0</td>\n",
              "      <td>0.0</td>\n",
              "      <td>2.0</td>\n",
              "      <td>3.0</td>\n",
              "      <td>3.0</td>\n",
              "      <td>4.0</td>\n",
              "    </tr>\n",
              "  </tbody>\n",
              "</table>\n",
              "</div>"
            ],
            "text/plain": [
              "        action1  action2  action3  romantic1  romantic2  romantic3\n",
              "user 1      4.0      5.0      3.0        0.0        2.0        1.0\n",
              "user 2      5.0      3.0      3.0        2.0        2.0        0.0\n",
              "user 3      1.0      0.0      0.0        4.0        5.0        4.0\n",
              "user 4      0.0      2.0      1.0        4.0        0.0        3.0\n",
              "user 5      1.0      0.0      2.0        3.0        3.0        4.0"
            ]
          },
          "metadata": {
            "tags": []
          },
          "execution_count": 52
        }
      ]
    },
    {
      "cell_type": "code",
      "metadata": {
        "id": "nZtDSIugPB9B",
        "outputId": "ea7f36ad-d84f-4fe5-8292-e9226c3d3b2c",
        "colab": {
          "base_uri": "https://localhost:8080/",
          "height": 195
        }
      },
      "source": [
        "def standardize(row):\n",
        "    new_row = (row - row.mean()) / (row.max() - row.min())\n",
        "    return new_row\n",
        "    \n",
        "toy_dataset_std = toy_dataset.apply(standardize)\n",
        "toy_dataset_std"
      ],
      "execution_count": 53,
      "outputs": [
        {
          "output_type": "execute_result",
          "data": {
            "text/html": [
              "<div>\n",
              "<style scoped>\n",
              "    .dataframe tbody tr th:only-of-type {\n",
              "        vertical-align: middle;\n",
              "    }\n",
              "\n",
              "    .dataframe tbody tr th {\n",
              "        vertical-align: top;\n",
              "    }\n",
              "\n",
              "    .dataframe thead th {\n",
              "        text-align: right;\n",
              "    }\n",
              "</style>\n",
              "<table border=\"1\" class=\"dataframe\">\n",
              "  <thead>\n",
              "    <tr style=\"text-align: right;\">\n",
              "      <th></th>\n",
              "      <th>action1</th>\n",
              "      <th>action2</th>\n",
              "      <th>action3</th>\n",
              "      <th>romantic1</th>\n",
              "      <th>romantic2</th>\n",
              "      <th>romantic3</th>\n",
              "    </tr>\n",
              "  </thead>\n",
              "  <tbody>\n",
              "    <tr>\n",
              "      <th>user 1</th>\n",
              "      <td>0.36</td>\n",
              "      <td>0.6</td>\n",
              "      <td>0.400000</td>\n",
              "      <td>-0.65</td>\n",
              "      <td>-0.08</td>\n",
              "      <td>-0.35</td>\n",
              "    </tr>\n",
              "    <tr>\n",
              "      <th>user 2</th>\n",
              "      <td>0.56</td>\n",
              "      <td>0.2</td>\n",
              "      <td>0.400000</td>\n",
              "      <td>-0.15</td>\n",
              "      <td>-0.08</td>\n",
              "      <td>-0.60</td>\n",
              "    </tr>\n",
              "    <tr>\n",
              "      <th>user 3</th>\n",
              "      <td>-0.24</td>\n",
              "      <td>-0.4</td>\n",
              "      <td>-0.600000</td>\n",
              "      <td>0.35</td>\n",
              "      <td>0.52</td>\n",
              "      <td>0.40</td>\n",
              "    </tr>\n",
              "    <tr>\n",
              "      <th>user 4</th>\n",
              "      <td>-0.44</td>\n",
              "      <td>0.0</td>\n",
              "      <td>-0.266667</td>\n",
              "      <td>0.35</td>\n",
              "      <td>-0.48</td>\n",
              "      <td>0.15</td>\n",
              "    </tr>\n",
              "    <tr>\n",
              "      <th>user 5</th>\n",
              "      <td>-0.24</td>\n",
              "      <td>-0.4</td>\n",
              "      <td>0.066667</td>\n",
              "      <td>0.10</td>\n",
              "      <td>0.12</td>\n",
              "      <td>0.40</td>\n",
              "    </tr>\n",
              "  </tbody>\n",
              "</table>\n",
              "</div>"
            ],
            "text/plain": [
              "        action1  action2   action3  romantic1  romantic2  romantic3\n",
              "user 1     0.36      0.6  0.400000      -0.65      -0.08      -0.35\n",
              "user 2     0.56      0.2  0.400000      -0.15      -0.08      -0.60\n",
              "user 3    -0.24     -0.4 -0.600000       0.35       0.52       0.40\n",
              "user 4    -0.44      0.0 -0.266667       0.35      -0.48       0.15\n",
              "user 5    -0.24     -0.4  0.066667       0.10       0.12       0.40"
            ]
          },
          "metadata": {
            "tags": []
          },
          "execution_count": 53
        }
      ]
    },
    {
      "cell_type": "code",
      "metadata": {
        "id": "0UiaX5nnPM30",
        "outputId": "239279d6-9470-4b27-cf0e-eac4c20d30dc",
        "colab": {
          "base_uri": "https://localhost:8080/"
        }
      },
      "source": [
        "#We are taking a transpose since we want similarity between items which need to be in rows\n",
        "item_similarity = cosine_similarity(toy_dataset_std.T)\n",
        "print(item_similarity)"
      ],
      "execution_count": 54,
      "outputs": [
        {
          "output_type": "stream",
          "text": [
            "[[ 1.          0.70668875  0.81368151 -0.79941088 -0.02539184 -0.91410609]\n",
            " [ 0.70668875  1.          0.72310153 -0.84515425 -0.5189993  -0.84337386]\n",
            " [ 0.81368151  0.72310153  1.         -0.84794611 -0.3799803  -0.80218063]\n",
            " [-0.79941088 -0.84515425 -0.84794611  1.          0.14803913  0.72374686]\n",
            " [-0.02539184 -0.5189993  -0.3799803   0.14803913  1.          0.39393939]\n",
            " [-0.91410609 -0.84337386 -0.80218063  0.72374686  0.39393939  1.        ]]\n"
          ],
          "name": "stdout"
        }
      ]
    },
    {
      "cell_type": "code",
      "metadata": {
        "id": "NpS_-27tPZs8",
        "outputId": "426c84c3-0f96-42e6-adb7-d5188405530b",
        "colab": {
          "base_uri": "https://localhost:8080/",
          "height": 225
        }
      },
      "source": [
        "item_similarity_df = pd.DataFrame(item_similarity, index = toy_dataset.columns, columns = toy_dataset.columns)\n",
        "item_similarity_df"
      ],
      "execution_count": 55,
      "outputs": [
        {
          "output_type": "execute_result",
          "data": {
            "text/html": [
              "<div>\n",
              "<style scoped>\n",
              "    .dataframe tbody tr th:only-of-type {\n",
              "        vertical-align: middle;\n",
              "    }\n",
              "\n",
              "    .dataframe tbody tr th {\n",
              "        vertical-align: top;\n",
              "    }\n",
              "\n",
              "    .dataframe thead th {\n",
              "        text-align: right;\n",
              "    }\n",
              "</style>\n",
              "<table border=\"1\" class=\"dataframe\">\n",
              "  <thead>\n",
              "    <tr style=\"text-align: right;\">\n",
              "      <th></th>\n",
              "      <th>action1</th>\n",
              "      <th>action2</th>\n",
              "      <th>action3</th>\n",
              "      <th>romantic1</th>\n",
              "      <th>romantic2</th>\n",
              "      <th>romantic3</th>\n",
              "    </tr>\n",
              "  </thead>\n",
              "  <tbody>\n",
              "    <tr>\n",
              "      <th>action1</th>\n",
              "      <td>1.000000</td>\n",
              "      <td>0.706689</td>\n",
              "      <td>0.813682</td>\n",
              "      <td>-0.799411</td>\n",
              "      <td>-0.025392</td>\n",
              "      <td>-0.914106</td>\n",
              "    </tr>\n",
              "    <tr>\n",
              "      <th>action2</th>\n",
              "      <td>0.706689</td>\n",
              "      <td>1.000000</td>\n",
              "      <td>0.723102</td>\n",
              "      <td>-0.845154</td>\n",
              "      <td>-0.518999</td>\n",
              "      <td>-0.843374</td>\n",
              "    </tr>\n",
              "    <tr>\n",
              "      <th>action3</th>\n",
              "      <td>0.813682</td>\n",
              "      <td>0.723102</td>\n",
              "      <td>1.000000</td>\n",
              "      <td>-0.847946</td>\n",
              "      <td>-0.379980</td>\n",
              "      <td>-0.802181</td>\n",
              "    </tr>\n",
              "    <tr>\n",
              "      <th>romantic1</th>\n",
              "      <td>-0.799411</td>\n",
              "      <td>-0.845154</td>\n",
              "      <td>-0.847946</td>\n",
              "      <td>1.000000</td>\n",
              "      <td>0.148039</td>\n",
              "      <td>0.723747</td>\n",
              "    </tr>\n",
              "    <tr>\n",
              "      <th>romantic2</th>\n",
              "      <td>-0.025392</td>\n",
              "      <td>-0.518999</td>\n",
              "      <td>-0.379980</td>\n",
              "      <td>0.148039</td>\n",
              "      <td>1.000000</td>\n",
              "      <td>0.393939</td>\n",
              "    </tr>\n",
              "    <tr>\n",
              "      <th>romantic3</th>\n",
              "      <td>-0.914106</td>\n",
              "      <td>-0.843374</td>\n",
              "      <td>-0.802181</td>\n",
              "      <td>0.723747</td>\n",
              "      <td>0.393939</td>\n",
              "      <td>1.000000</td>\n",
              "    </tr>\n",
              "  </tbody>\n",
              "</table>\n",
              "</div>"
            ],
            "text/plain": [
              "            action1   action2   action3  romantic1  romantic2  romantic3\n",
              "action1    1.000000  0.706689  0.813682  -0.799411  -0.025392  -0.914106\n",
              "action2    0.706689  1.000000  0.723102  -0.845154  -0.518999  -0.843374\n",
              "action3    0.813682  0.723102  1.000000  -0.847946  -0.379980  -0.802181\n",
              "romantic1 -0.799411 -0.845154 -0.847946   1.000000   0.148039   0.723747\n",
              "romantic2 -0.025392 -0.518999 -0.379980   0.148039   1.000000   0.393939\n",
              "romantic3 -0.914106 -0.843374 -0.802181   0.723747   0.393939   1.000000"
            ]
          },
          "metadata": {
            "tags": []
          },
          "execution_count": 55
        }
      ]
    },
    {
      "cell_type": "code",
      "metadata": {
        "id": "7W1A-wBbQ5nn",
        "outputId": "3118f267-c7a7-497e-ebc0-237fb312893b",
        "colab": {
          "base_uri": "https://localhost:8080/"
        }
      },
      "source": [
        "#Let's make recommendations\n",
        "def get_similar_movies(movie_name, user_rating):\n",
        "    similar_score = item_similarity_df[movie_name] * user_rating\n",
        "    similar_score = similar_score.sort_values(ascending = False)\n",
        "    return similar_score\n",
        "\n",
        "print(get_similar_movies(\"action1\", 5))"
      ],
      "execution_count": 56,
      "outputs": [
        {
          "output_type": "stream",
          "text": [
            "action1      5.000000\n",
            "action3      4.068408\n",
            "action2      3.533444\n",
            "romantic2   -0.126959\n",
            "romantic1   -3.997054\n",
            "romantic3   -4.570530\n",
            "Name: action1, dtype: float64\n"
          ],
          "name": "stdout"
        }
      ]
    },
    {
      "cell_type": "code",
      "metadata": {
        "id": "b2jHDbKHCO2E",
        "outputId": "22c740cc-fe87-44f1-9162-84bc213d0134",
        "colab": {
          "base_uri": "https://localhost:8080/"
        }
      },
      "source": [
        "action_lover =  [('action1', 5), ('romantic2', 1), ('romantic3', 1)]\n",
        "similar_movies = pd.DataFrame()\n",
        "for movie, rating in action_lover:\n",
        "    similar_movies = similar_movies.append(get_similar_movies(movie, rating), ignore_index = True)\n",
        "\n",
        "print(similar_movies.head())\n",
        "similar_movies.sum().sort_values(ascending = False)"
      ],
      "execution_count": 60,
      "outputs": [
        {
          "output_type": "stream",
          "text": [
            "    action1   action2   action3  romantic1  romantic2  romantic3\n",
            "0  5.000000  3.533444  4.068408  -3.997054  -0.126959  -4.570530\n",
            "1 -0.025392 -0.518999 -0.379980   0.148039   1.000000   0.393939\n",
            "2 -0.914106 -0.843374 -0.802181   0.723747   0.393939   1.000000\n"
          ],
          "name": "stdout"
        },
        {
          "output_type": "execute_result",
          "data": {
            "text/plain": [
              "action1      4.060502\n",
              "action3      2.886247\n",
              "action2      2.171071\n",
              "romantic2    1.266980\n",
              "romantic1   -3.125268\n",
              "romantic3   -3.176591\n",
              "dtype: float64"
            ]
          },
          "metadata": {
            "tags": []
          },
          "execution_count": 60
        }
      ]
    }
  ]
}